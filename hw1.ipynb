{
 "cells": [
  {
   "cell_type": "code",
   "execution_count": 23,
   "metadata": {},
   "outputs": [
    {
     "name": "stdout",
     "output_type": "stream",
     "text": [
      "8\n",
      "8\n",
      "Tensor(\"Shape:0\", shape=(0,), dtype=int32)\n"
     ]
    }
   ],
   "source": [
    "import tensorflow as tf\n",
    "g = tf.Graph()\n",
    "tf.Session()\n",
    "a = tf.add(3, 5)\n",
    "with g.as_default():\n",
    "    pass\n",
    "with tf.Session() as sess:\n",
    "    print(sess.run(a))\n",
    "    \n",
    "g1 = tf.get_default_graph()\n",
    "with tf.Session(graph = g1) as sess:\n",
    "    print(sess.run(a))"
   ]
  },
  {
   "cell_type": "code",
   "execution_count": 22,
   "metadata": {},
   "outputs": [
    {
     "data": {
      "text/plain": [
       "<tf.Tensor 'Sqrt_3:0' shape=() dtype=float32>"
      ]
     },
     "execution_count": 22,
     "metadata": {},
     "output_type": "execute_result"
    }
   ],
   "source": [
    "tf.add(3, 5) #+\n",
    "tf.subtract(5, 3) #-\n",
    "tf.multiply(3, 5) #*\n",
    "tf.divide(6, 3) #/\n",
    "tf.mod(6, 3) #%\n",
    "tf.pow(2, 3) #^\n",
    "tf.square(3) #^2\n",
    "tf.sqrt(9., name=None) #^1/2"
   ]
  },
  {
   "cell_type": "code",
   "execution_count": 20,
   "metadata": {},
   "outputs": [],
   "source": [
    "#1.\n",
    "input[1]\n",
    "#2.\n",
    "tf.slice(input, [1, 0, 0, 0], [1, 28, 28, 3])\n",
    "#3.\n",
    "结果相同，逻辑不同，索引是整体，切片是一层层取出来\n",
    "#4.\n",
    "a = []\n",
    "for i in range(4):\n",
    "    a[i] = input[2i+1]\n",
    "#5.\n",
    "input[5:7][7:21][7:21]\n",
    "#6\n",
    "a = []\n",
    "for i in range(3):\n",
    "    a[i] = input[:][:][:][i]\n",
    "#7.\n",
    "4\n",
    "Tensor(\"Shape:4\", shape=(10, 28, 28, 3), dtype=float64), "
   ]
  },
  {
   "cell_type": "code",
   "execution_count": null,
   "metadata": {},
   "outputs": [],
   "source": []
  }
 ],
 "metadata": {
  "kernelspec": {
   "display_name": "Python 3",
   "language": "python",
   "name": "python3"
  },
  "language_info": {
   "codemirror_mode": {
    "name": "ipython",
    "version": 3
   },
   "file_extension": ".py",
   "mimetype": "text/x-python",
   "name": "python",
   "nbconvert_exporter": "python",
   "pygments_lexer": "ipython3",
   "version": "3.6.6"
  }
 },
 "nbformat": 4,
 "nbformat_minor": 2
}
