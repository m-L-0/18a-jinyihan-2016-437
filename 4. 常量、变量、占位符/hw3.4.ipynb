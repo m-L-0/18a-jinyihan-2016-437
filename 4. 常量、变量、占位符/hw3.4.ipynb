{
 "cells": [
  {
   "cell_type": "code",
   "execution_count": 8,
   "metadata": {},
   "outputs": [],
   "source": [
    "import tensorflow as tf\n",
    "x = tf.placeholder(dtype=tf.int32, shape=[])\n",
    "y = tf.placeholder(dtype=tf.int32, shape=[])\n",
    "a = tf.Variable(1)\n",
    "b = tf.Variable(1)\n",
    "c = tf.Variable(1)\n",
    "d = tf.Variable(1)\n",
    "z = a + tf.multiply(b, x) + tf.multiply(c, y) + d"
   ]
  },
  {
   "cell_type": "code",
   "execution_count": 11,
   "metadata": {},
   "outputs": [],
   "source": [
    "samp = tf.placeholder(dtype=tf.int32, shape=[])\n",
    "cost = tf.square(tf.subtract(samp, z))"
   ]
  },
  {
   "cell_type": "code",
   "execution_count": null,
   "metadata": {},
   "outputs": [],
   "source": []
  }
 ],
 "metadata": {
  "kernelspec": {
   "display_name": "Python 3",
   "language": "python",
   "name": "python3"
  },
  "language_info": {
   "codemirror_mode": {
    "name": "ipython",
    "version": 3
   },
   "file_extension": ".py",
   "mimetype": "text/x-python",
   "name": "python",
   "nbconvert_exporter": "python",
   "pygments_lexer": "ipython3",
   "version": "3.6.4"
  }
 },
 "nbformat": 4,
 "nbformat_minor": 2
}
