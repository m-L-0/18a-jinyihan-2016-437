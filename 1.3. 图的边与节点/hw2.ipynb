{
 "cells": [
  {
   "cell_type": "code",
   "execution_count": 1,
   "metadata": {},
   "outputs": [
    {
     "ename": "SyntaxError",
     "evalue": "invalid character in identifier (<ipython-input-1-967279ad67c9>, line 6)",
     "output_type": "error",
     "traceback": [
      "\u001b[1;36m  File \u001b[1;32m\"<ipython-input-1-967279ad67c9>\"\u001b[1;36m, line \u001b[1;32m6\u001b[0m\n\u001b[1;33m    结果相同，逻辑不同，索引是整体，切片是一层层取出来\u001b[0m\n\u001b[1;37m                            ^\u001b[0m\n\u001b[1;31mSyntaxError\u001b[0m\u001b[1;31m:\u001b[0m invalid character in identifier\n"
     ]
    }
   ],
   "source": [
    "#1.\n",
    "input[1]\n",
    "#2.\n",
    "tf.slice(input, [1, 0, 0, 0], [1, 28, 28, 3])\n",
    "#3.\n",
    "结果相同，逻辑不同，索引是整体，切片是一层层取出来\n",
    "#4.\n",
    "a = []\n",
    "for i in range(4):\n",
    "    a[i] = input[2i+1]\n",
    "#5.\n",
    "input[5:7][7:21][7:21]\n",
    "#6\n",
    "a = []\n",
    "for i in range(3):\n",
    "    a[i] = input[:][:][:][i]\n",
    "#7.\n",
    "4\n",
    "Tensor(\"Shape:4\", shape=(10, 28, 28, 3), dtype=float64), "
   ]
  },
  {
   "cell_type": "code",
   "execution_count": null,
   "metadata": {},
   "outputs": [],
   "source": []
  }
 ],
 "metadata": {
  "kernelspec": {
   "display_name": "Python 3",
   "language": "python",
   "name": "python3"
  }
 },
 "nbformat": 4,
 "nbformat_minor": 2
}
