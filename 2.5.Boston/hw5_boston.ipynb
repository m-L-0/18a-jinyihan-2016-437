{
 "cells": [
  {
   "cell_type": "code",
   "execution_count": 1,
   "metadata": {},
   "outputs": [
    {
     "name": "stderr",
     "output_type": "stream",
     "text": [
      "Using TensorFlow backend.\n"
     ]
    }
   ],
   "source": [
    "import numpy as np\n",
    "import tensorflow as tf\n",
    "from keras.datasets import fashion_mnist\n",
    "from keras.datasets import boston_housing"
   ]
  },
  {
   "cell_type": "code",
   "execution_count": 2,
   "metadata": {},
   "outputs": [],
   "source": [
    "(train_data, train_label), (test_data, test_label) =\\\n",
    "    tf.keras.datasets.boston_housing.load_data()"
   ]
  },
  {
   "cell_type": "code",
   "execution_count": 3,
   "metadata": {},
   "outputs": [
    {
     "data": {
      "text/plain": [
       "(404, 13)"
      ]
     },
     "execution_count": 3,
     "metadata": {},
     "output_type": "execute_result"
    }
   ],
   "source": [
    "train_data.shape"
   ]
  },
  {
   "cell_type": "code",
   "execution_count": 4,
   "metadata": {},
   "outputs": [
    {
     "data": {
      "text/plain": [
       "(404,)"
      ]
     },
     "execution_count": 4,
     "metadata": {},
     "output_type": "execute_result"
    }
   ],
   "source": [
    "train_label.shape"
   ]
  },
  {
   "cell_type": "code",
   "execution_count": 5,
   "metadata": {},
   "outputs": [],
   "source": [
    "with tf.Graph().as_default() as g:\n",
    "    inputs = tf.placeholder(shape = [None, 13], dtype=tf.float32)\n",
    "    labels = tf.placeholder(shape = [None], dtype=tf.float32)\n",
    "    \n",
    "    h1 = tf.keras.layers.Dense(64, activation=tf.nn.relu)(inputs)\n",
    "    h2 = tf.keras.layers.Dense(16, activation=tf.nn.relu)(h1)\n",
    "    output = tf.keras.layers.Dense(1, activation=None)(h2)\n",
    "    \n",
    "    loss = tf.reduce_mean(\n",
    "        tf.keras.losses.mean_squared_error(labels, output))\n",
    "    \n",
    "    optim = tf.train.GradientDescentOptimizer(learning_rate=1e-6)\n",
    "    train_op = optim.minimize(loss)"
   ]
  },
  {
   "cell_type": "code",
   "execution_count": 10,
   "metadata": {},
   "outputs": [
    {
     "name": "stdout",
     "output_type": "stream",
     "text": [
      "epoch   0, train loss 170.5403, val loss 415.9764\n",
      "epoch   1, train loss 198.7646, val loss 159.5424\n",
      "epoch   2, train loss 132.0268, val loss 147.6776\n",
      "epoch   3, train loss 134.5554, val loss 132.0336\n",
      "epoch   4, train loss 156.6074, val loss 125.7948\n",
      "epoch   5, train loss 134.3031, val loss 116.5851\n",
      "epoch   6, train loss 96.8094, val loss 111.0432\n",
      "epoch   7, train loss 166.7141, val loss 115.9996\n",
      "epoch   8, train loss 102.3488, val loss 107.9540\n",
      "epoch   9, train loss 100.1150, val loss 107.9543\n",
      "epoch  10, train loss 82.0399, val loss 101.6767\n",
      "epoch  11, train loss 89.9697, val loss 100.9055\n",
      "epoch  12, train loss 26.4676, val loss 101.7973\n",
      "epoch  13, train loss 89.3083, val loss 96.8718\n",
      "epoch  14, train loss 108.0916, val loss 99.9300\n",
      "epoch  15, train loss 110.6557, val loss 98.9162\n",
      "epoch  16, train loss 149.3607, val loss 98.5385\n",
      "epoch  17, train loss 102.1287, val loss 92.8986\n",
      "epoch  18, train loss 56.3416, val loss 96.2599\n",
      "epoch  19, train loss 104.6334, val loss 100.0443\n",
      "epoch  20, train loss 98.5355, val loss 94.2042\n",
      "epoch  21, train loss 74.9246, val loss 88.6928\n",
      "epoch  22, train loss 99.7335, val loss 97.1641\n",
      "epoch  23, train loss 120.3520, val loss 94.8863\n",
      "epoch  24, train loss 101.5699, val loss 94.6966\n",
      "epoch  25, train loss 94.5840, val loss 101.4080\n",
      "epoch  26, train loss 100.2650, val loss 87.5590\n",
      "epoch  27, train loss 120.8889, val loss 93.3572\n",
      "epoch  28, train loss 125.2122, val loss 95.0836\n",
      "epoch  29, train loss 121.5369, val loss 92.4553\n",
      "epoch  30, train loss 76.9516, val loss 89.3485\n",
      "epoch  31, train loss 108.7474, val loss 92.7995\n",
      "epoch  32, train loss 61.2889, val loss 94.7221\n",
      "epoch  33, train loss 90.5467, val loss 95.6117\n",
      "epoch  34, train loss 75.2843, val loss 91.7800\n",
      "epoch  35, train loss 70.0217, val loss 92.6165\n",
      "epoch  36, train loss 65.8450, val loss 96.8374\n",
      "epoch  37, train loss 126.2560, val loss 90.6604\n",
      "epoch  38, train loss 102.4677, val loss 93.2629\n",
      "epoch  39, train loss 110.0846, val loss 90.2729\n",
      "epoch  40, train loss 96.8193, val loss 90.5401\n",
      "epoch  41, train loss 78.7547, val loss 92.7982\n",
      "epoch  42, train loss 120.2415, val loss 87.8828\n",
      "epoch  43, train loss 101.1104, val loss 89.7461\n",
      "epoch  44, train loss 97.4252, val loss 93.3921\n",
      "epoch  45, train loss 119.4620, val loss 90.2278\n",
      "epoch  46, train loss 40.8232, val loss 93.8734\n",
      "epoch  47, train loss 82.1658, val loss 94.0572\n",
      "epoch  48, train loss 68.0845, val loss 94.8024\n",
      "epoch  49, train loss 117.0236, val loss 93.8203\n",
      "epoch  50, train loss 100.3921, val loss 86.1367\n",
      "epoch  51, train loss 110.7809, val loss 91.6940\n",
      "epoch  52, train loss 68.0076, val loss 90.1627\n",
      "epoch  53, train loss 81.9200, val loss 92.5925\n",
      "epoch  54, train loss 119.3911, val loss 84.8655\n",
      "epoch  55, train loss 50.6792, val loss 91.0856\n",
      "epoch  56, train loss 120.5824, val loss 92.7677\n",
      "epoch  57, train loss 84.1777, val loss 92.5988\n",
      "epoch  58, train loss 100.8168, val loss 90.4486\n",
      "epoch  59, train loss 71.3819, val loss 91.0236\n",
      "epoch  60, train loss 97.5766, val loss 91.2392\n",
      "epoch  61, train loss 100.0410, val loss 90.9425\n",
      "epoch  62, train loss 86.3173, val loss 96.2257\n",
      "epoch  63, train loss 161.8198, val loss 93.0924\n",
      "epoch  64, train loss 86.9268, val loss 90.4883\n",
      "epoch  65, train loss 83.0399, val loss 96.9615\n",
      "epoch  66, train loss 43.6983, val loss 89.7005\n",
      "epoch  67, train loss 58.1140, val loss 88.0990\n",
      "epoch  68, train loss 126.1863, val loss 92.0333\n",
      "epoch  69, train loss 87.8725, val loss 89.0876\n",
      "epoch  70, train loss 82.5549, val loss 92.6725\n",
      "epoch  71, train loss 104.8770, val loss 90.8700\n",
      "epoch  72, train loss 69.9654, val loss 92.5605\n",
      "epoch  73, train loss 54.7136, val loss 90.6663\n",
      "epoch  74, train loss 60.9077, val loss 89.5351\n",
      "epoch  75, train loss 77.4144, val loss 91.3885\n",
      "epoch  76, train loss 54.7548, val loss 91.7044\n",
      "epoch  77, train loss 83.9937, val loss 92.8893\n",
      "epoch  78, train loss 103.0224, val loss 92.6153\n",
      "epoch  79, train loss 117.7000, val loss 94.7786\n",
      "epoch  80, train loss 92.1958, val loss 92.1254\n",
      "epoch  81, train loss 53.9158, val loss 89.6739\n",
      "epoch  82, train loss 135.9833, val loss 91.1317\n",
      "epoch  83, train loss 38.3750, val loss 86.8030\n",
      "epoch  84, train loss 85.7572, val loss 91.8571\n",
      "epoch  85, train loss 52.3138, val loss 89.6480\n",
      "epoch  86, train loss 47.8060, val loss 89.7742\n",
      "epoch  87, train loss 89.1286, val loss 89.6407\n",
      "epoch  88, train loss 50.4381, val loss 92.6783\n",
      "epoch  89, train loss 63.5162, val loss 90.5729\n",
      "epoch  90, train loss 139.2740, val loss 88.7071\n",
      "epoch  91, train loss 118.2732, val loss 89.2598\n",
      "epoch  92, train loss 82.0951, val loss 94.4439\n",
      "epoch  93, train loss 76.7335, val loss 91.1085\n",
      "epoch  94, train loss 62.4283, val loss 87.4850\n",
      "epoch  95, train loss 115.1258, val loss 93.3041\n",
      "epoch  96, train loss 63.5498, val loss 90.5800\n",
      "epoch  97, train loss 76.6584, val loss 85.2089\n",
      "epoch  98, train loss 137.2217, val loss 94.2736\n",
      "epoch  99, train loss 81.7194, val loss 89.8906\n",
      "epoch 100, train loss 75.8983, val loss 89.7207\n",
      "epoch 101, train loss 126.0044, val loss 92.1831\n",
      "epoch 102, train loss 146.2137, val loss 86.6587\n",
      "epoch 103, train loss 96.5649, val loss 91.0091\n",
      "epoch 104, train loss 114.6111, val loss 88.7932\n",
      "epoch 105, train loss 115.1394, val loss 89.0091\n",
      "epoch 106, train loss 96.4217, val loss 88.5019\n",
      "epoch 107, train loss 96.7178, val loss 87.2158\n",
      "epoch 108, train loss 77.4991, val loss 86.2813\n",
      "epoch 109, train loss 117.4049, val loss 88.6404\n",
      "epoch 110, train loss 102.9512, val loss 88.0711\n",
      "epoch 111, train loss 148.7628, val loss 91.4484\n",
      "epoch 112, train loss 74.1760, val loss 89.7973\n",
      "epoch 113, train loss 133.4169, val loss 91.1447\n",
      "epoch 114, train loss 107.0466, val loss 89.4759\n",
      "epoch 115, train loss 79.7063, val loss 88.0004\n",
      "epoch 116, train loss 85.8508, val loss 88.6189\n",
      "epoch 117, train loss 77.7017, val loss 90.6759\n",
      "epoch 118, train loss 72.6176, val loss 90.0505\n",
      "epoch 119, train loss 101.5708, val loss 90.9933\n",
      "epoch 120, train loss 65.8077, val loss 90.5750\n",
      "epoch 121, train loss 106.0131, val loss 88.2428\n",
      "epoch 122, train loss 108.8086, val loss 91.2527\n",
      "epoch 123, train loss 84.2047, val loss 89.3525\n",
      "epoch 124, train loss 68.0213, val loss 87.2440\n",
      "epoch 125, train loss 70.5787, val loss 91.4553\n",
      "epoch 126, train loss 75.5980, val loss 88.8637\n",
      "epoch 127, train loss 75.8556, val loss 88.9157\n",
      "epoch 128, train loss 73.4687, val loss 90.3249\n",
      "epoch 129, train loss 130.8893, val loss 88.3260\n",
      "epoch 130, train loss 87.4533, val loss 91.0688\n",
      "epoch 131, train loss 37.1161, val loss 89.4018\n",
      "epoch 132, train loss 108.3676, val loss 84.4470\n",
      "epoch 133, train loss 93.0979, val loss 91.0301\n",
      "epoch 134, train loss 111.0717, val loss 87.1830\n",
      "epoch 135, train loss 77.7505, val loss 91.4172\n",
      "epoch 136, train loss 97.6855, val loss 89.4457\n",
      "epoch 137, train loss 78.9835, val loss 90.9526\n",
      "epoch 138, train loss 86.2455, val loss 90.0134\n",
      "epoch 139, train loss 98.6582, val loss 89.6886\n",
      "epoch 140, train loss 68.7538, val loss 92.8528\n",
      "epoch 141, train loss 128.1998, val loss 84.3642\n",
      "epoch 142, train loss 101.1814, val loss 92.5751\n",
      "epoch 143, train loss 122.9895, val loss 92.2910\n",
      "epoch 144, train loss 106.3547, val loss 90.3308\n",
      "epoch 145, train loss 113.9361, val loss 88.1010\n",
      "epoch 146, train loss 96.2440, val loss 90.0935\n",
      "epoch 147, train loss 132.0565, val loss 93.2065\n",
      "epoch 148, train loss 87.9901, val loss 91.1942\n",
      "epoch 149, train loss 62.5115, val loss 86.4981\n",
      "epoch 150, train loss 66.3288, val loss 85.6044\n",
      "epoch 151, train loss 118.5957, val loss 88.3777\n",
      "epoch 152, train loss 63.9107, val loss 88.5699\n",
      "epoch 153, train loss 31.7963, val loss 87.0468\n",
      "epoch 154, train loss 145.7560, val loss 94.5049\n",
      "epoch 155, train loss 71.8274, val loss 88.9244\n",
      "epoch 156, train loss 127.8775, val loss 89.3911\n",
      "epoch 157, train loss 135.7110, val loss 88.0698\n",
      "epoch 158, train loss 68.1551, val loss 87.1236\n",
      "epoch 159, train loss 54.7912, val loss 93.2599\n",
      "epoch 160, train loss 86.6561, val loss 85.7007\n",
      "epoch 161, train loss 65.3266, val loss 91.7109\n",
      "epoch 162, train loss 103.8847, val loss 91.9618\n",
      "epoch 163, train loss 70.0550, val loss 89.8839\n",
      "epoch 164, train loss 94.9983, val loss 93.9295\n",
      "epoch 165, train loss 91.2026, val loss 91.0251\n",
      "epoch 166, train loss 93.8446, val loss 95.3535\n",
      "epoch 167, train loss 91.6591, val loss 87.1587\n",
      "epoch 168, train loss 38.1736, val loss 95.1162\n",
      "epoch 169, train loss 138.0711, val loss 91.5340\n",
      "epoch 170, train loss 52.8814, val loss 88.7644\n",
      "epoch 171, train loss 82.6066, val loss 88.1669\n",
      "epoch 172, train loss 76.1658, val loss 91.2351\n",
      "epoch 173, train loss 68.3405, val loss 87.9445\n",
      "epoch 174, train loss 109.0730, val loss 93.7746\n",
      "epoch 175, train loss 101.1104, val loss 87.1394\n",
      "epoch 176, train loss 52.1968, val loss 87.5052\n",
      "epoch 177, train loss 137.9196, val loss 91.0229\n",
      "epoch 178, train loss 61.6063, val loss 86.3964\n",
      "epoch 179, train loss 92.0992, val loss 90.9822\n",
      "epoch 180, train loss 68.1054, val loss 88.3500\n",
      "epoch 181, train loss 141.8903, val loss 94.0965\n",
      "epoch 182, train loss 109.9921, val loss 92.0017\n",
      "epoch 183, train loss 140.1770, val loss 87.3429\n",
      "epoch 184, train loss 133.3076, val loss 87.5147\n",
      "epoch 185, train loss 73.4959, val loss 91.8452\n",
      "epoch 186, train loss 42.2382, val loss 87.9465\n",
      "epoch 187, train loss 81.3651, val loss 88.4690\n",
      "epoch 188, train loss 84.6123, val loss 90.1479\n"
     ]
    },
    {
     "name": "stdout",
     "output_type": "stream",
     "text": [
      "epoch 189, train loss 91.5235, val loss 86.3638\n",
      "epoch 190, train loss 101.5903, val loss 89.2369\n",
      "epoch 191, train loss 104.3441, val loss 88.7922\n",
      "epoch 192, train loss 117.2733, val loss 90.9055\n",
      "epoch 193, train loss 96.4496, val loss 91.6861\n",
      "epoch 194, train loss 112.6447, val loss 92.2968\n",
      "epoch 195, train loss 124.8162, val loss 88.4903\n",
      "epoch 196, train loss 79.9095, val loss 92.1455\n",
      "epoch 197, train loss 70.2793, val loss 96.1482\n",
      "epoch 198, train loss 90.4937, val loss 91.5082\n",
      "epoch 199, train loss 81.6650, val loss 90.2416\n"
     ]
    }
   ],
   "source": [
    "with tf.Session(graph=g) as sess:\n",
    "    sess.run(tf.global_variables_initializer())\n",
    "    batch_size = 32\n",
    "    for epoch in range(200):\n",
    "        order = np.argsort(np.random.random(train_label.shape))\n",
    "        #np.argsort 返回元素从小到大排列的索引\n",
    "        train_data = train_data[order]\n",
    "        train_label = train_label[order]\n",
    "        \n",
    "        res_train_losses = []\n",
    "        for i in range(train_label.shape[0] // batch_size):\n",
    "            start = i * batch_size\n",
    "            end = (i + 1) * batch_size\n",
    "            res_train_loss, _ = sess.run([loss, train_op],\n",
    "                                        feed_dict={inputs: train_data[start: end],\n",
    "                                                  labels: train_label[start: end]})\n",
    "            res_train_losses.append(res_train_loss)\n",
    "        res_val_loss = sess.run(loss,\n",
    "                               feed_dict={inputs: test_data,\n",
    "                                         labels: test_label})\n",
    "        print('epoch %3d, train loss %2.4f, val loss %2.4f' %\n",
    "              (epoch, res_train_loss, np.mean(res_train_losses)))"
   ]
  },
  {
   "cell_type": "code",
   "execution_count": 7,
   "metadata": {},
   "outputs": [],
   "source": []
  },
  {
   "cell_type": "code",
   "execution_count": null,
   "metadata": {},
   "outputs": [],
   "source": [
    "(train_data, train_label), (test_data, test_label) = fashion_mnist.load_data()"
   ]
  },
  {
   "cell_type": "code",
   "execution_count": 16,
   "metadata": {},
   "outputs": [
    {
     "ename": "NameError",
     "evalue": "name 'tensorboard' is not defined",
     "output_type": "error",
     "traceback": [
      "\u001b[1;31m---------------------------------------------------------------------------\u001b[0m",
      "\u001b[1;31mNameError\u001b[0m                                 Traceback (most recent call last)",
      "\u001b[1;32m<ipython-input-16-3d420ac8b5b9>\u001b[0m in \u001b[0;36m<module>\u001b[1;34m()\u001b[0m\n\u001b[1;32m----> 1\u001b[1;33m \u001b[0mtensorboard\u001b[0m \u001b[1;33m-\u001b[0m \u001b[1;33m-\u001b[0m\u001b[0mlogdir\u001b[0m\u001b[1;33m\u001b[0m\u001b[0m\n\u001b[0m",
      "\u001b[1;31mNameError\u001b[0m: name 'tensorboard' is not defined"
     ]
    }
   ],
   "source": [
    "tensorboard - -logdir"
   ]
  },
  {
   "cell_type": "code",
   "execution_count": null,
   "metadata": {},
   "outputs": [],
   "source": []
  },
  {
   "cell_type": "code",
   "execution_count": null,
   "metadata": {},
   "outputs": [],
   "source": []
  },
  {
   "cell_type": "code",
   "execution_count": null,
   "metadata": {},
   "outputs": [],
   "source": []
  },
  {
   "cell_type": "code",
   "execution_count": null,
   "metadata": {},
   "outputs": [],
   "source": []
  },
  {
   "cell_type": "code",
   "execution_count": null,
   "metadata": {},
   "outputs": [],
   "source": []
  },
  {
   "cell_type": "code",
   "execution_count": null,
   "metadata": {},
   "outputs": [],
   "source": []
  },
  {
   "cell_type": "code",
   "execution_count": null,
   "metadata": {},
   "outputs": [],
   "source": []
  },
  {
   "cell_type": "code",
   "execution_count": null,
   "metadata": {},
   "outputs": [],
   "source": [
    "# (train_data, train_label), (test_data, test_label) = fashion_mnist.load_data()"
   ]
  }
 ],
 "metadata": {
  "kernelspec": {
   "display_name": "Python 3",
   "language": "python",
   "name": "python3"
  },
  "language_info": {
   "codemirror_mode": {
    "name": "ipython",
    "version": 3
   },
   "file_extension": ".py",
   "mimetype": "text/x-python",
   "name": "python",
   "nbconvert_exporter": "python",
   "pygments_lexer": "ipython3",
   "version": "3.6.4"
  }
 },
 "nbformat": 4,
 "nbformat_minor": 2
}
