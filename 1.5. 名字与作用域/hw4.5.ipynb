{
 "cells": [
  {
   "cell_type": "code",
   "execution_count": 2,
   "metadata": {},
   "outputs": [
    {
     "ename": "SyntaxError",
     "evalue": "invalid character in identifier (<ipython-input-2-d286189440a6>, line 1)",
     "output_type": "error",
     "traceback": [
      "\u001b[1;36m  File \u001b[1;32m\"<ipython-input-2-d286189440a6>\"\u001b[1;36m, line \u001b[1;32m1\u001b[0m\n\u001b[1;33m    相同点：\u001b[0m\n\u001b[1;37m       ^\u001b[0m\n\u001b[1;31mSyntaxError\u001b[0m\u001b[1;31m:\u001b[0m invalid character in identifier\n"
     ]
    }
   ],
   "source": [
    "相同点：\n",
    "都可以给Op加前缀，嵌套后，name会包含上级的name，多级会累加。\n",
    "不同点：\n",
    "variable_scope包含了name_scope的全部功能。\n",
    "创建两个相同name的variable_scope相当于创建了一个variable_scope，\n",
    "variable_scope不允许重名，而name_scope重名后系统会自动添加索引值。\n",
    "variable_scope包含一个reuse属性，控制是否可重用"
   ]
  },
  {
   "cell_type": "code",
   "execution_count": null,
   "metadata": {},
   "outputs": [],
   "source": [
    "import tensorflow as tf\n",
    "tf.get_variable('var', dtype=tf.float32, shape=[]) #假设为待预测值var，创建var\n",
    "with tf.Session() as sess:\n",
    "    with tf.variable_scope('scope', reuse=True) as scope: #获得已有变量var\n",
    "        var = tf.get_variable('var')\n",
    "        print(sess.run(tf.sigmoid(var))) #将var带入sigmoid，得到预测值"
   ]
  }
 ],
 "metadata": {
  "kernelspec": {
   "display_name": "Python 3",
   "language": "python",
   "name": "python3"
  },
  "language_info": {
   "codemirror_mode": {
    "name": "ipython",
    "version": 3
   },
   "file_extension": ".py",
   "mimetype": "text/x-python",
   "name": "python",
   "nbconvert_exporter": "python",
   "pygments_lexer": "ipython3",
   "version": "3.6.4"
  }
 },
 "nbformat": 4,
 "nbformat_minor": 2
}
