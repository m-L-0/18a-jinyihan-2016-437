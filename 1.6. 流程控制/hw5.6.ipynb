{
 "cells": [
  {
   "cell_type": "code",
   "execution_count": 1,
   "metadata": {},
   "outputs": [
    {
     "name": "stderr",
     "output_type": "stream",
     "text": [
      "E:\\anaconda\\lib\\site-packages\\h5py\\__init__.py:36: FutureWarning: Conversion of the second argument of issubdtype from `float` to `np.floating` is deprecated. In future, it will be treated as `np.float64 == np.dtype(float).type`.\n",
      "  from ._conv import register_converters as _register_converters\n"
     ]
    }
   ],
   "source": [
    "import tensorflow as tf\n",
    "x = tf.placeholder(dtype=tf.float32, shape=[])\n",
    "y = tf.placeholder(dtype=tf.float32, shape=[])\n",
    "z = tf.Variable(tf.constant([]))\n",
    "sess = tf.InteractiveSession()"
   ]
  },
  {
   "cell_type": "code",
   "execution_count": null,
   "metadata": {
    "scrolled": true
   },
   "outputs": [],
   "source": [
    "i = 0\n",
    "n = len(x.eval())\n",
    "\n",
    "cond = tf.Variable(x[i]<y[i])\n",
    "def true_fn():\n",
    "    return z.append(x[i])\n",
    "def false_fn():\n",
    "    return z.append(y[i])\n",
    "result = tf.cond(cond, true_fn, false_fn)"
   ]
  },
  {
   "cell_type": "code",
   "execution_count": null,
   "metadata": {},
   "outputs": [],
   "source": [
    "def cond(i, n):\n",
    "    return i<n\n",
    "def body(i, n):\n",
    "    sess.run(result)\n",
    "    return i, n\n",
    "result_i, result_n = tf.while_loop(cond, body, [x, y])"
   ]
  }
 ],
 "metadata": {
  "kernelspec": {
   "display_name": "Python 3",
   "language": "python",
   "name": "python3"
  },
  "language_info": {
   "codemirror_mode": {
    "name": "ipython",
    "version": 3
   },
   "file_extension": ".py",
   "mimetype": "text/x-python",
   "name": "python",
   "nbconvert_exporter": "python",
   "pygments_lexer": "ipython3",
   "version": "3.6.4"
  }
 },
 "nbformat": 4,
 "nbformat_minor": 2
}
